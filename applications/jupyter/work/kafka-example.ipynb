{
 "cells": [
  {
   "cell_type": "code",
   "execution_count": 1,
   "metadata": {},
   "outputs": [
    {
     "name": "stdout",
     "output_type": "stream",
     "text": [
      "Collecting kafka-python\n",
      "  Downloading kafka_python-2.0.2-py2.py3-none-any.whl (246 kB)\n",
      "\u001b[K     |████████████████████████████████| 246 kB 5.8 MB/s eta 0:00:01\n",
      "\u001b[?25hInstalling collected packages: kafka-python\n",
      "Successfully installed kafka-python-2.0.2\n"
     ]
    }
   ],
   "source": [
    "import sys\n",
    "!{sys.executable} -m pip install kafka-python"
   ]
  },
  {
   "cell_type": "code",
   "execution_count": 2,
   "metadata": {},
   "outputs": [],
   "source": [
    "from kafka import KafkaConsumer, KafkaProducer, TopicPartition\n",
    "from json import loads as json_decode"
   ]
  },
  {
   "cell_type": "code",
   "execution_count": 3,
   "metadata": {},
   "outputs": [],
   "source": [
    "producer = KafkaProducer(bootstrap_servers='kafka:9092')\n",
    "for _ in range(10):\n",
    "    producer.send('test', b'{\"hello\":\"some_message_bytes\"}')"
   ]
  },
  {
   "cell_type": "code",
   "execution_count": 4,
   "metadata": {},
   "outputs": [
    {
     "name": "stdout",
     "output_type": "stream",
     "text": [
      "Total messages gathered from stream:10\n"
     ]
    },
    {
     "data": {
      "text/plain": [
       "[{'hello': 'some_message_bytes'},\n",
       " {'hello': 'some_message_bytes'},\n",
       " {'hello': 'some_message_bytes'},\n",
       " {'hello': 'some_message_bytes'},\n",
       " {'hello': 'some_message_bytes'},\n",
       " {'hello': 'some_message_bytes'},\n",
       " {'hello': 'some_message_bytes'},\n",
       " {'hello': 'some_message_bytes'},\n",
       " {'hello': 'some_message_bytes'},\n",
       " {'hello': 'some_message_bytes'}]"
      ]
     },
     "execution_count": 4,
     "metadata": {},
     "output_type": "execute_result"
    }
   ],
   "source": [
    "# settings\n",
    "client = \"kafka:9092\"\n",
    "topic = 'test'\n",
    "\n",
    "# prepare consumer\n",
    "tp = TopicPartition(topic,0)\n",
    "consumer = KafkaConsumer(bootstrap_servers=client)\n",
    "consumer.assign([tp])\n",
    "consumer.seek_to_beginning(tp)  \n",
    "\n",
    "# obtain the last offset value\n",
    "lastOffset = consumer.end_offsets([tp])[tp]\n",
    "\n",
    "messages = []\n",
    "\n",
    "for message in consumer:\n",
    "    messages.append(json_decode(message.value))\n",
    "    if message.offset == lastOffset - 1:\n",
    "        break\n",
    "\n",
    "print(\"Total messages gathered from stream:\" + str(len(messages)))\n",
    "\n",
    "messages"
   ]
  },
  {
   "cell_type": "code",
   "execution_count": null,
   "metadata": {},
   "outputs": [],
   "source": []
  }
 ],
 "metadata": {
  "kernelspec": {
   "display_name": "Python 3 (ipykernel)",
   "language": "python",
   "name": "python3"
  },
  "language_info": {
   "codemirror_mode": {
    "name": "ipython",
    "version": 3
   },
   "file_extension": ".py",
   "mimetype": "text/x-python",
   "name": "python",
   "nbconvert_exporter": "python",
   "pygments_lexer": "ipython3",
   "version": "3.9.7"
  }
 },
 "nbformat": 4,
 "nbformat_minor": 4
}
